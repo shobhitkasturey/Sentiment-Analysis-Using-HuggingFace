{
 "cells": [
  {
   "cell_type": "code",
   "execution_count": null,
   "id": "2c65479e",
   "metadata": {
    "scrolled": false
   },
   "outputs": [],
   "source": [
    "from transformers import pipeline\n",
    "\n",
    "class SentimentAnalyzer:\n",
    "    def __init__(self):\n",
    "        self.analyzer = pipeline(\"text-classification\", model='bhadresh-savani/distilbert-base-uncased-emotion')\n",
    "        \n",
    "    def analyze(self, text):\n",
    "        try:\n",
    "            result = self.analyzer(text)\n",
    "            return result[0]['label']  \n",
    "        except Exception as e:\n",
    "            print(f\"An error occurred: {e}\")\n",
    "            return None\n",
    "\n",
    "def main():\n",
    "    analyzer = SentimentAnalyzer()\n",
    "    \n",
    "    \n",
    "    print(\"Welcome to the Sentiment Analysis Tool\")\n",
    "    print(\"Type 'exit' to quit the tool.\\n\")\n",
    "    \n",
    "    while True:\n",
    "        user_input = input(\"Enter text for sentiment analysis: \")\n",
    "        if user_input.lower() == 'exit':\n",
    "            print(\"Exiting the tool. Goodbye!\")\n",
    "            break\n",
    "        \n",
    "        sentiment = analyzer.analyze(user_input)\n",
    "        if sentiment:\n",
    "            print(f\"Sentiment: {sentiment}\\n\")\n",
    "\n",
    "if __name__ == \"__main__\":\n",
    "    main()\n"
   ]
  },
  {
   "cell_type": "code",
   "execution_count": null,
   "id": "df71b7fe",
   "metadata": {
    "scrolled": true
   },
   "outputs": [],
   "source": []
  },
  {
   "cell_type": "code",
   "execution_count": null,
   "id": "878ff23e",
   "metadata": {},
   "outputs": [],
   "source": []
  },
  {
   "cell_type": "code",
   "execution_count": null,
   "id": "62571e5f",
   "metadata": {},
   "outputs": [],
   "source": []
  }
 ],
 "metadata": {
  "kernelspec": {
   "display_name": "basicPython",
   "language": "python",
   "name": "basicpython"
  },
  "language_info": {
   "codemirror_mode": {
    "name": "ipython",
    "version": 3
   },
   "file_extension": ".py",
   "mimetype": "text/x-python",
   "name": "python",
   "nbconvert_exporter": "python",
   "pygments_lexer": "ipython3",
   "version": "3.11.3"
  }
 },
 "nbformat": 4,
 "nbformat_minor": 5
}
